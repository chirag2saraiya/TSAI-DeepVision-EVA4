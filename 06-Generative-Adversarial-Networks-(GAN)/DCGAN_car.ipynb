{
  "nbformat": 4,
  "nbformat_minor": 0,
  "metadata": {
    "colab": {
      "name": "DCGAN_car.ipynb",
      "provenance": []
    },
    "kernelspec": {
      "name": "python3",
      "display_name": "Python 3"
    },
    "accelerator": "GPU"
  },
  "cells": [
    {
      "cell_type": "code",
      "metadata": {
        "id": "QDhp6GduW6_z",
        "colab_type": "code",
        "colab": {}
      },
      "source": [
        "!rm -rf /content/__MACOSX"
      ],
      "execution_count": 29,
      "outputs": []
    },
    {
      "cell_type": "code",
      "metadata": {
        "id": "KTFIvf8gegco",
        "colab_type": "code",
        "colab": {}
      },
      "source": [
        "!rm -rf /content/cars_data"
      ],
      "execution_count": null,
      "outputs": []
    },
    {
      "cell_type": "code",
      "metadata": {
        "id": "pCG_Qn0jwjWl",
        "colab_type": "code",
        "colab": {}
      },
      "source": [
        "!unzip \"/content/cars_data.zip\""
      ],
      "execution_count": null,
      "outputs": []
    },
    {
      "cell_type": "code",
      "metadata": {
        "id": "V45IQKP9dtGN",
        "colab_type": "code",
        "colab": {}
      },
      "source": [
        "folder = \"/content/cars_data\""
      ],
      "execution_count": 1,
      "outputs": []
    },
    {
      "cell_type": "code",
      "metadata": {
        "id": "NRdMfirE7Gbk",
        "colab_type": "code",
        "colab": {}
      },
      "source": [
        "!zip -r samples.zip /content/samples"
      ],
      "execution_count": null,
      "outputs": []
    },
    {
      "cell_type": "code",
      "metadata": {
        "id": "Be6u3UPZj4oh",
        "colab_type": "code",
        "colab": {}
      },
      "source": [
        "!zip -r car_data_new.zip /content/cars_data"
      ],
      "execution_count": null,
      "outputs": []
    },
    {
      "cell_type": "code",
      "metadata": {
        "id": "Gm2hdmLYkEbi",
        "colab_type": "code",
        "colab": {
          "base_uri": "https://localhost:8080/",
          "height": 122
        },
        "outputId": "2af8597f-cd09-4eee-e400-038ba4baf9e1"
      },
      "source": [
        "from google.colab import drive\n",
        "drive.mount('/content/drive')"
      ],
      "execution_count": 43,
      "outputs": [
        {
          "output_type": "stream",
          "text": [
            "Go to this URL in a browser: https://accounts.google.com/o/oauth2/auth?client_id=947318989803-6bn6qk8qdgf4n4g3pfee6491hc0brc4i.apps.googleusercontent.com&redirect_uri=urn%3aietf%3awg%3aoauth%3a2.0%3aoob&scope=email%20https%3a%2f%2fwww.googleapis.com%2fauth%2fdocs.test%20https%3a%2f%2fwww.googleapis.com%2fauth%2fdrive%20https%3a%2f%2fwww.googleapis.com%2fauth%2fdrive.photos.readonly%20https%3a%2f%2fwww.googleapis.com%2fauth%2fpeopleapi.readonly&response_type=code\n",
            "\n",
            "Enter your authorization code:\n",
            "4/4AHt9-CHATSIsVJ7PqJoulIhL_l6O2wBgdoUF48vsL7ExxInjdJVmFQ\n",
            "Mounted at /content/drive\n"
          ],
          "name": "stdout"
        }
      ]
    },
    {
      "cell_type": "code",
      "metadata": {
        "id": "lPClChvDkXMj",
        "colab_type": "code",
        "colab": {}
      },
      "source": [
        "!cp /content/car_data_new.zip /content/drive/'My Drive'"
      ],
      "execution_count": 44,
      "outputs": []
    },
    {
      "cell_type": "code",
      "metadata": {
        "id": "TCmA8DoV7X1B",
        "colab_type": "code",
        "colab": {}
      },
      "source": [
        "!rm -rf /content/samples"
      ],
      "execution_count": 1,
      "outputs": []
    },
    {
      "cell_type": "code",
      "metadata": {
        "id": "J7fPVRRVstV-",
        "colab_type": "code",
        "colab": {}
      },
      "source": [
        "import torch\n",
        "import torchvision\n",
        "import torch.nn as nn\n",
        "import torch.nn.functional as F"
      ],
      "execution_count": 2,
      "outputs": []
    },
    {
      "cell_type": "code",
      "metadata": {
        "id": "vQsJ0rwRtwd8",
        "colab_type": "code",
        "colab": {}
      },
      "source": [
        "from torch.utils.data import DataLoader\n",
        "from torch.utils.data.dataset import Dataset\n",
        "from torchvision import datasets\n",
        "from torchvision import transforms\n",
        "from torchvision.utils import save_image"
      ],
      "execution_count": 3,
      "outputs": []
    },
    {
      "cell_type": "code",
      "metadata": {
        "id": "L4--YlgBuE7S",
        "colab_type": "code",
        "colab": {}
      },
      "source": [
        "import numpy as np\n",
        "import datetime\n",
        "import os, sys"
      ],
      "execution_count": 4,
      "outputs": []
    },
    {
      "cell_type": "code",
      "metadata": {
        "id": "13lQ2Xm1uIac",
        "colab_type": "code",
        "colab": {}
      },
      "source": [
        "import glob\n",
        "from PIL import Image\n",
        "from matplotlib.pyplot import imshow, imsave\n",
        "%matplotlib inline\n",
        "MODEL_NAME = 'DCGAN'\n",
        "DEVICE = torch.device(\"cuda:0\" if torch.cuda.is_available() else \"cpu\")"
      ],
      "execution_count": 5,
      "outputs": []
    },
    {
      "cell_type": "code",
      "metadata": {
        "id": "OMasXRkh7fTx",
        "colab_type": "code",
        "colab": {}
      },
      "source": [
        "folder = \"/content/cars_data\""
      ],
      "execution_count": 6,
      "outputs": []
    },
    {
      "cell_type": "code",
      "metadata": {
        "id": "Q31UVSDtxWNr",
        "colab_type": "code",
        "colab": {}
      },
      "source": [
        "for filename in os.listdir(folder):\n",
        "    img = Image.open(os.path.join(folder,filename)).convert('RGB')\n",
        "    img.save(os.path.join(folder,filename)) \n",
        "    "
      ],
      "execution_count": 7,
      "outputs": []
    },
    {
      "cell_type": "code",
      "metadata": {
        "id": "YPb-Sy65uKoG",
        "colab_type": "code",
        "colab": {}
      },
      "source": [
        "IMAGE_DIM = (32, 32, 3)"
      ],
      "execution_count": 8,
      "outputs": []
    },
    {
      "cell_type": "code",
      "metadata": {
        "id": "dQvkWRKXunEc",
        "colab_type": "code",
        "colab": {}
      },
      "source": [
        "def get_sample_image(G, n_noise):\n",
        "    \"\"\"\n",
        "        save sample 100 images\n",
        "    \"\"\"\n",
        "    z = torch.randn(10, n_noise).to(DEVICE)\n",
        "    y_hat = G(z).view(10, 3, 32, 32).permute(0, 2, 3, 1) # (100, 28, 28)\n",
        "    result = (y_hat.detach().cpu().numpy()+1)/2.\n",
        "    return result"
      ],
      "execution_count": 9,
      "outputs": []
    },
    {
      "cell_type": "code",
      "metadata": {
        "id": "NZqgREMlupqb",
        "colab_type": "code",
        "colab": {}
      },
      "source": [
        "class Discriminator(nn.Module):\n",
        "    \"\"\"\n",
        "        Convolutional Discriminator for MNIST\n",
        "    \"\"\"\n",
        "    def __init__(self, in_channel=1, num_classes=1):\n",
        "        super(Discriminator, self).__init__()\n",
        "        self.conv = nn.Sequential(\n",
        "            # 28 -> 14\n",
        "            nn.Conv2d(in_channel, 512, 3, stride=2, padding=1, bias=False),\n",
        "            nn.BatchNorm2d(512),\n",
        "            nn.LeakyReLU(0.2),\n",
        "            # 14 -> 7\n",
        "            nn.Conv2d(512, 256, 3, stride=2, padding=1, bias=False),\n",
        "            nn.BatchNorm2d(256),\n",
        "            nn.LeakyReLU(0.2),\n",
        "            # 7 -> 4\n",
        "            nn.Conv2d(256, 128, 3, stride=2, padding=1, bias=False),\n",
        "            nn.BatchNorm2d(128),\n",
        "            nn.LeakyReLU(0.2),\n",
        "            # \n",
        "            nn.Conv2d(128, 128, 3, stride=2, padding=1, bias=False),\n",
        "            nn.BatchNorm2d(128),\n",
        "            nn.LeakyReLU(0.2),\n",
        "            nn.AdaptiveAvgPool2d(1),\n",
        "        )        \n",
        "        self.fc = nn.Sequential(\n",
        "            # reshape input, 128 -> 1\n",
        "            nn.Linear(128, 1),\n",
        "            nn.Sigmoid(),\n",
        "        )\n",
        "    \n",
        "    def forward(self, x, y=None):\n",
        "        y_ = self.conv(x)\n",
        "        y_ = y_.view(y_.size(0), -1)\n",
        "        y_ = self.fc(y_)\n",
        "        return y_"
      ],
      "execution_count": 10,
      "outputs": []
    },
    {
      "cell_type": "code",
      "metadata": {
        "id": "6DP6PTHpuqu0",
        "colab_type": "code",
        "colab": {}
      },
      "source": [
        "class Generator(nn.Module):\n",
        "    \"\"\"\n",
        "        Convolutional Generator for MNIST\n",
        "    \"\"\"\n",
        "    def __init__(self, out_channel=1, input_size=100, num_classes=784):\n",
        "        super(Generator, self).__init__()\n",
        "        assert IMAGE_DIM[0] % 2**4 == 0, 'Should be divided 16'\n",
        "        self.init_dim = (IMAGE_DIM[0] // 2**4, IMAGE_DIM[1] // 2**4)\n",
        "        self.fc = nn.Sequential(\n",
        "            nn.Linear(input_size, self.init_dim[0]*self.init_dim[1]*512),\n",
        "            nn.ReLU(),\n",
        "        )\n",
        "        self.conv = nn.Sequential(\n",
        "            nn.Conv2d(512, 512, 3, padding=1, bias=False),\n",
        "            nn.BatchNorm2d(512),\n",
        "            nn.ReLU(),\n",
        "            # x2\n",
        "            nn.ConvTranspose2d(512, 256, 4, stride=2, padding=1, bias=False),\n",
        "            nn.BatchNorm2d(256),\n",
        "            nn.ReLU(),\n",
        "            # x2\n",
        "            nn.ConvTranspose2d(256, 128, 4, stride=2, padding=1, bias=False),\n",
        "            nn.BatchNorm2d(128),\n",
        "            nn.ReLU(),\n",
        "            # x2\n",
        "            nn.ConvTranspose2d(128, 128, 4, stride=2, padding=1, bias=False),\n",
        "            nn.BatchNorm2d(128),\n",
        "            nn.ReLU(),\n",
        "            # x2\n",
        "            nn.ConvTranspose2d(128, out_channel, 4, stride=2, padding=1, bias=False),\n",
        "            nn.Tanh(),\n",
        "        )\n",
        "        \n",
        "    def forward(self, x, y=None):\n",
        "        x = x.view(x.size(0), -1)\n",
        "        y_ = self.fc(x)\n",
        "        y_ = y_.view(y_.size(0), 512, self.init_dim[0], self.init_dim[1])\n",
        "        y_ = self.conv(y_)\n",
        "        return y_"
      ],
      "execution_count": 11,
      "outputs": []
    },
    {
      "cell_type": "code",
      "metadata": {
        "id": "ylF-9NqTvKdh",
        "colab_type": "code",
        "colab": {}
      },
      "source": [
        "class CARS(Dataset):\n",
        "    '''\n",
        "    CARS Dataset\n",
        "    You should download this dataset from below url.\n",
        "    url: https://ai.stanford.edu/~jkrause/cars/car_dataset.html\n",
        "    '''\n",
        "    def __init__(self, data_path, transform=None):\n",
        "        '''\n",
        "        Args:\n",
        "            data_path (str): path to dataset\n",
        "        '''\n",
        "        self.data_path = data_path\n",
        "        self.transform = transform\n",
        "        self.fpaths = sorted(glob.glob(os.path.join(data_path, '*.jpeg')))\n",
        "        #gray_lst = [266, 1085, 2176, 3048, 3439, 3469, 3539, 4577, 4848, 5177, 5502, 5713, 6947, 7383, 7693, 7774, 8137, 8144]\n",
        "        #for num in gray_lst:\n",
        "        #    self.fpaths.remove(os.path.join(data_path, '{:05d}.png'.format(num)))\n",
        "        \n",
        "    def __getitem__(self, idx):\n",
        "        img = self.transform(Image.open(self.fpaths[idx]))\n",
        "        return img\n",
        "\n",
        "    def __len__(self):\n",
        "        return len(self.fpaths)"
      ],
      "execution_count": 12,
      "outputs": []
    },
    {
      "cell_type": "code",
      "metadata": {
        "id": "SYra8KvnvM1-",
        "colab_type": "code",
        "colab": {}
      },
      "source": [
        "D = Discriminator(in_channel=IMAGE_DIM[-1]).to(DEVICE)\n",
        "G = Generator(out_channel=IMAGE_DIM[-1]).to(DEVICE)\n",
        "# D.load_state_dict('D_dc.pkl')\n",
        "# G.load_state_dict('G_dc.pkl')"
      ],
      "execution_count": 13,
      "outputs": []
    },
    {
      "cell_type": "code",
      "metadata": {
        "id": "qhVPnDU1vO_K",
        "colab_type": "code",
        "colab": {}
      },
      "source": [
        "\n",
        "transform = transforms.Compose([transforms.Resize((IMAGE_DIM[0],IMAGE_DIM[1])),\n",
        "                                transforms.ToTensor(),\n",
        "                                transforms.Normalize(mean=(0.5, 0.5, 0.5),\n",
        "                                std=(0.5, 0.5, 0.5))\n",
        "                               ]\n",
        ")"
      ],
      "execution_count": 14,
      "outputs": []
    },
    {
      "cell_type": "code",
      "metadata": {
        "id": "G_pQB-ZFvUnK",
        "colab_type": "code",
        "colab": {}
      },
      "source": [
        "dataset = CARS(data_path='/content/cars_data/', transform=transform)"
      ],
      "execution_count": 15,
      "outputs": []
    },
    {
      "cell_type": "code",
      "metadata": {
        "id": "TX7AZvDMvWds",
        "colab_type": "code",
        "colab": {}
      },
      "source": [
        "batch_size = 64"
      ],
      "execution_count": 16,
      "outputs": []
    },
    {
      "cell_type": "code",
      "metadata": {
        "id": "y23w-XTFvXFL",
        "colab_type": "code",
        "colab": {}
      },
      "source": [
        "data_loader = DataLoader(dataset=dataset, batch_size=batch_size, shuffle=True, drop_last=True, num_workers=8)"
      ],
      "execution_count": 17,
      "outputs": []
    },
    {
      "cell_type": "code",
      "metadata": {
        "id": "qUxFV7Wbvbyn",
        "colab_type": "code",
        "colab": {}
      },
      "source": [
        "criterion = nn.BCELoss()\n",
        "D_opt = torch.optim.Adam(D.parameters(), lr=0.001, betas=(0.5, 0.999))\n",
        "G_opt = torch.optim.Adam(G.parameters(), lr=0.001, betas=(0.5, 0.999))"
      ],
      "execution_count": 18,
      "outputs": []
    },
    {
      "cell_type": "code",
      "metadata": {
        "id": "ZqhjuXdcvdVI",
        "colab_type": "code",
        "colab": {}
      },
      "source": [
        "max_epoch = 2200\n",
        "step = 0\n",
        "n_critic = 1 # for training more k steps about Discriminator\n",
        "n_noise = 100"
      ],
      "execution_count": 22,
      "outputs": []
    },
    {
      "cell_type": "code",
      "metadata": {
        "id": "5FOT9WiGvflg",
        "colab_type": "code",
        "colab": {}
      },
      "source": [
        "D_labels = torch.ones([batch_size, 1]).to(DEVICE) # Discriminator Label to real\n",
        "D_fakes = torch.zeros([batch_size, 1]).to(DEVICE) # Discriminator Label to fake"
      ],
      "execution_count": 23,
      "outputs": []
    },
    {
      "cell_type": "code",
      "metadata": {
        "id": "4XnIzTJDyM7w",
        "colab_type": "code",
        "colab": {}
      },
      "source": [
        "!mkdir samples"
      ],
      "execution_count": 21,
      "outputs": []
    },
    {
      "cell_type": "code",
      "metadata": {
        "id": "gry7j7v4vjxO",
        "colab_type": "code",
        "colab": {
          "base_uri": "https://localhost:8080/",
          "height": 697
        },
        "outputId": "5de5d911-98a1-427c-ef73-f8a69240a5ae"
      },
      "source": [
        "for epoch in range(max_epoch):\n",
        "    for idx, images in enumerate(data_loader):\n",
        "        # Training Discriminator\n",
        "        x = images.to(DEVICE)\n",
        "        x_outputs = D(x)\n",
        "        D_x_loss = criterion(x_outputs, D_labels)\n",
        "\n",
        "        z = torch.randn(batch_size, n_noise).to(DEVICE)\n",
        "        z_outputs = D(G(z))\n",
        "        D_z_loss = criterion(z_outputs, D_fakes)\n",
        "        D_loss = D_x_loss + D_z_loss\n",
        "        \n",
        "        D.zero_grad()\n",
        "        D_loss.backward()\n",
        "        D_opt.step()\n",
        "\n",
        "        if step % n_critic == 0:\n",
        "            # Training Generator\n",
        "            z = torch.randn(batch_size, n_noise).to(DEVICE)\n",
        "            z_outputs = D(G(z))\n",
        "            G_loss = criterion(z_outputs, D_labels)\n",
        "\n",
        "            D.zero_grad()\n",
        "            G.zero_grad()\n",
        "            G_loss.backward()\n",
        "            G_opt.step()\n",
        "        \n",
        "        if step % 500 == 0:\n",
        "            dt = datetime.datetime.now().strftime('%H:%M:%S')\n",
        "            print('Epoch: {}/{}, Step: {}, D Loss: {:.4f}, G Loss: {:.4f}, Time:{}'.format(epoch, max_epoch, step, D_loss.item(), G_loss.item(), dt))\n",
        "            G.eval()\n",
        "            img = get_sample_image(G, n_noise)\n",
        "            imsave('samples/{}_step{:05d}.jpg'.format(MODEL_NAME, step), img[0])\n",
        "            G.train()\n",
        "        step += 1"
      ],
      "execution_count": 24,
      "outputs": [
        {
          "output_type": "stream",
          "text": [
            "Epoch: 0/2200, Step: 0, D Loss: 1.3951, G Loss: 0.7163, Time:18:38:10\n",
            "Epoch: 55/2200, Step: 500, D Loss: 0.8883, G Loss: 1.5214, Time:18:39:38\n",
            "Epoch: 111/2200, Step: 1000, D Loss: 0.7377, G Loss: 2.2642, Time:18:41:08\n",
            "Epoch: 166/2200, Step: 1500, D Loss: 0.4964, G Loss: 3.1451, Time:18:42:37\n",
            "Epoch: 222/2200, Step: 2000, D Loss: 0.3691, G Loss: 3.3335, Time:18:44:07\n",
            "Epoch: 277/2200, Step: 2500, D Loss: 0.3819, G Loss: 5.1033, Time:18:45:37\n",
            "Epoch: 333/2200, Step: 3000, D Loss: 0.0846, G Loss: 3.6961, Time:18:47:07\n",
            "Epoch: 388/2200, Step: 3500, D Loss: 0.1358, G Loss: 4.9617, Time:18:48:38\n",
            "Epoch: 444/2200, Step: 4000, D Loss: 0.2558, G Loss: 4.5639, Time:18:50:10\n",
            "Epoch: 500/2200, Step: 4500, D Loss: 0.0799, G Loss: 6.1399, Time:18:51:42\n",
            "Epoch: 555/2200, Step: 5000, D Loss: 0.2742, G Loss: 6.5838, Time:18:53:13\n",
            "Epoch: 611/2200, Step: 5500, D Loss: 0.0364, G Loss: 5.6401, Time:18:54:45\n",
            "Epoch: 666/2200, Step: 6000, D Loss: 0.2710, G Loss: 6.2030, Time:18:56:14\n",
            "Epoch: 722/2200, Step: 6500, D Loss: 0.0211, G Loss: 7.4787, Time:18:57:44\n",
            "Epoch: 777/2200, Step: 7000, D Loss: 0.0043, G Loss: 8.3666, Time:18:59:13\n",
            "Epoch: 833/2200, Step: 7500, D Loss: 0.0016, G Loss: 13.5679, Time:19:00:43\n",
            "Epoch: 888/2200, Step: 8000, D Loss: 0.0090, G Loss: 6.2731, Time:19:02:12\n",
            "Epoch: 944/2200, Step: 8500, D Loss: 0.0823, G Loss: 5.6940, Time:19:03:42\n",
            "Epoch: 1000/2200, Step: 9000, D Loss: 0.0503, G Loss: 7.8435, Time:19:05:12\n",
            "Epoch: 1055/2200, Step: 9500, D Loss: 0.0530, G Loss: 5.7395, Time:19:06:42\n",
            "Epoch: 1111/2200, Step: 10000, D Loss: 0.0295, G Loss: 7.7425, Time:19:08:15\n",
            "Epoch: 1166/2200, Step: 10500, D Loss: 0.0426, G Loss: 5.3060, Time:19:09:45\n",
            "Epoch: 1222/2200, Step: 11000, D Loss: 0.0350, G Loss: 4.9802, Time:19:11:16\n",
            "Epoch: 1277/2200, Step: 11500, D Loss: 0.0123, G Loss: 6.8195, Time:19:12:45\n",
            "Epoch: 1333/2200, Step: 12000, D Loss: 0.2481, G Loss: 6.0285, Time:19:14:15\n",
            "Epoch: 1388/2200, Step: 12500, D Loss: 0.0366, G Loss: 5.2994, Time:19:15:43\n",
            "Epoch: 1444/2200, Step: 13000, D Loss: 0.0297, G Loss: 4.9472, Time:19:17:13\n",
            "Epoch: 1500/2200, Step: 13500, D Loss: 0.0480, G Loss: 4.6829, Time:19:18:43\n",
            "Epoch: 1555/2200, Step: 14000, D Loss: 0.1499, G Loss: 9.7407, Time:19:20:11\n",
            "Epoch: 1611/2200, Step: 14500, D Loss: 0.0399, G Loss: 7.2155, Time:19:21:42\n",
            "Epoch: 1666/2200, Step: 15000, D Loss: 0.0026, G Loss: 7.3799, Time:19:23:12\n",
            "Epoch: 1722/2200, Step: 15500, D Loss: 0.0012, G Loss: 7.8502, Time:19:24:44\n",
            "Epoch: 1777/2200, Step: 16000, D Loss: 0.0003, G Loss: 8.3804, Time:19:26:15\n",
            "Epoch: 1833/2200, Step: 16500, D Loss: 0.0094, G Loss: 6.8747, Time:19:27:45\n",
            "Epoch: 1888/2200, Step: 17000, D Loss: 0.0161, G Loss: 5.0624, Time:19:29:14\n",
            "Epoch: 1944/2200, Step: 17500, D Loss: 0.0374, G Loss: 9.2554, Time:19:30:44\n",
            "Epoch: 2000/2200, Step: 18000, D Loss: 0.0649, G Loss: 4.4716, Time:19:32:13\n",
            "Epoch: 2055/2200, Step: 18500, D Loss: 0.0349, G Loss: 4.9111, Time:19:33:42\n",
            "Epoch: 2111/2200, Step: 19000, D Loss: 0.0030, G Loss: 8.3210, Time:19:35:11\n",
            "Epoch: 2166/2200, Step: 19500, D Loss: 0.0088, G Loss: 7.4077, Time:19:36:40\n"
          ],
          "name": "stdout"
        }
      ]
    },
    {
      "cell_type": "code",
      "metadata": {
        "id": "-xM5yzGXvm_B",
        "colab_type": "code",
        "colab": {
          "base_uri": "https://localhost:8080/",
          "height": 283
        },
        "outputId": "021116fa-7759-4b63-e9d6-d94aa2957448"
      },
      "source": [
        "# generation to image\n",
        "G.eval()\n",
        "imshow(get_sample_image(G, n_noise)[0])"
      ],
      "execution_count": 38,
      "outputs": [
        {
          "output_type": "execute_result",
          "data": {
            "text/plain": [
              "<matplotlib.image.AxesImage at 0x7f0d207eaf98>"
            ]
          },
          "metadata": {
            "tags": []
          },
          "execution_count": 38
        },
        {
          "output_type": "display_data",
          "data": {
            "image/png": "[encoded data removed]",
            "text/plain": [
              "<Figure size 432x288 with 1 Axes>"
            ]
          },
          "metadata": {
            "tags": [],
            "needs_background": "light"
          }
        }
      ]
    },
    {
      "cell_type": "code",
      "metadata": {
        "id": "SE_fT2yHvo4e",
        "colab_type": "code",
        "colab": {}
      },
      "source": [
        "# Real Image\n",
        "#t = Image.open(dataset.fpaths[999])\n",
        "#t = (transform(t).permute(1, 2, 0)+1)/2.\n",
        "#imshow(t)"
      ],
      "execution_count": null,
      "outputs": []
    },
    {
      "cell_type": "code",
      "metadata": {
        "id": "CmGzqH6kvrCs",
        "colab_type": "code",
        "colab": {}
      },
      "source": [
        "def save_checkpoint(state, file_name='checkpoint.pth.tar'):\n",
        "    torch.save(state, file_name)"
      ],
      "execution_count": 39,
      "outputs": []
    },
    {
      "cell_type": "code",
      "metadata": {
        "id": "5gMzQXcnvs5d",
        "colab_type": "code",
        "colab": {}
      },
      "source": [
        "\n",
        "# Saving params.\n",
        "# torch.save(D.state_dict(), 'D_c.pkl')\n",
        "# torch.save(G.state_dict(), 'G_c.pkl')\n",
        "save_checkpoint({'epoch': epoch + 1,\n",
        "                 'D':D.state_dict(),\n",
        "                 'G':G.state_dict(),\n",
        "                 'd_optim': D_opt.state_dict(),\n",
        "                 'g_optim' : G_opt.state_dict()},\n",
        "                'dcgan.pth.tar')"
      ],
      "execution_count": 40,
      "outputs": []
    }
  ]
}